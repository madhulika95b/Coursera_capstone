{
 "cells": [
  {
   "cell_type": "markdown",
   "metadata": {},
   "source": [
    "# Applied Data Science Capstone by IBM/Coursera"
   ]
  },
  {
   "cell_type": "markdown",
   "metadata": {},
   "source": [
    "## Problem Description:"
   ]
  },
  {
   "cell_type": "markdown",
   "metadata": {},
   "source": [
    "In this capstone project, I will make an analysis on which would be the most appropriate location for opening a new Indian restaurant in the city of Toronto. As Toronto is the capital city of Ontario, it is one of the popular targeted places for stakeholders to start a new business. Simultaneously it will be overwhelming in making a choice on which location to open a new restaurant. So, this project will be helpful to those stakeholders who are planning to open a new Indian restaurant in Toronto.\n",
    "In this project, I will be considering the following factors in analyzing data to find out which would be the best location for opening a new Indian restaurant-\n",
    "i.\tAs the project focuses on Indian restaurant, I’d be interested in those neighborhoods in Toronto which have no or very few Indian restaurants to attract more customers and also decrease competition.\n",
    "ii.\tI would also be considering how far is that neighborhood from the center of the city, to make sure the customers don’t have to travel a very long distance as that may affect the business in an unwanted way.\n"
   ]
  },
  {
   "cell_type": "markdown",
   "metadata": {},
   "source": [
    "## Data:"
   ]
  },
  {
   "cell_type": "markdown",
   "metadata": {},
   "source": [
    "I will be using the Neighborhood data of Toronto that has been generated for the week 3 project by scraping the wiki web page containing Neighborhood data of Toronto and using Foursquare API. I shall be using Foursquare API to find the neighborhoods by the center of the city, and also the locations with few or no Indian restaurants. And then I will use Data Science techniques to find the location that is most suitable for stakeholders to open a new Indian restaurant in the city of Toronto."
   ]
  },
  {
   "cell_type": "markdown",
   "metadata": {},
   "source": [
    "The structure of the dataframe I will be using for this project will be something like:\n",
    "    postal code: Postal code of the arae\n",
    "    Neighborhood: Neighborhood name\n",
    "    Latitude: Latitude of that particular Neighborhood using Foursquare API\n",
    "    Longitude: Longitude of that particular Neighborhood\n",
    "    Restaurant Venue: Data related to the restaurants in that particular Neighborhood extracted using Foursquare API"
   ]
  }
 ],
 "metadata": {
  "kernelspec": {
   "display_name": "Python 3",
   "language": "python",
   "name": "python3"
  },
  "language_info": {
   "codemirror_mode": {
    "name": "ipython",
    "version": 3
   },
   "file_extension": ".py",
   "mimetype": "text/x-python",
   "name": "python",
   "nbconvert_exporter": "python",
   "pygments_lexer": "ipython3",
   "version": "3.6.8"
  }
 },
 "nbformat": 4,
 "nbformat_minor": 2
}
